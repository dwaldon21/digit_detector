{
 "cells": [
  {
   "cell_type": "markdown",
   "id": "aafc196f",
   "metadata": {},
   "source": [
    "MNIST dataset using KNN "
   ]
  },
  {
   "cell_type": "code",
   "execution_count": null,
   "id": "d53449a5",
   "metadata": {},
   "outputs": [],
   "source": [
    "import tkinter as tk\n",
    "import cv2\n",
    "import numpy as np\n",
    "from PIL import Image, ImageDraw\n",
    "from sklearn.neighbors import KNeighborsClassifier\n",
    "import tensorflow as tf\n",
    "import matplotlib.pyplot as plt"
   ]
  },
  {
   "cell_type": "markdown",
   "id": "8f5273e6",
   "metadata": {},
   "source": [
    "Step 1: Data Preparation"
   ]
  },
  {
   "cell_type": "code",
   "execution_count": null,
   "id": "65e492b0",
   "metadata": {},
   "outputs": [],
   "source": [
    "# Load the MNIST dataset from TensorFlow datasets\n",
    "mnist = tf.keras.datasets.mnist\n",
    "\n",
    "# Load training and testing data\n",
    "(X_train, y_train), (X_test, y_test) = mnist.load_data()\n",
    "\n",
    "# Normalize the dataset\n",
    "X_train = X_train / 255.0\n",
    "X_test = X_test / 255.0"
   ]
  },
  {
   "cell_type": "markdown",
   "id": "71400e31",
   "metadata": {},
   "source": [
    "Step 2: Process the data"
   ]
  },
  {
   "cell_type": "code",
   "execution_count": null,
   "id": "ffc327fc",
   "metadata": {},
   "outputs": [],
   "source": [
    "# Flatten the images from 28x28 to 784 features (28*28)\n",
    "X_train = X_train.reshape(X_train.shape[0], 28 * 28)\n",
    "X_test = X_test.reshape(X_test.shape[0], 28 * 28)\n"
   ]
  },
  {
   "cell_type": "markdown",
   "id": "005016d4",
   "metadata": {},
   "source": [
    "Step 3: Train the KNN Model"
   ]
  },
  {
   "cell_type": "code",
   "execution_count": null,
   "id": "d2263602",
   "metadata": {},
   "outputs": [],
   "source": [
    "# Create the KNN model with 3 neighbors\n",
    "knn = KNeighborsClassifier(n_neighbors=1)\n",
    "\n",
    "# Train the model using the training data\n",
    "knn.fit(X_train, y_train)\n"
   ]
  },
  {
   "cell_type": "markdown",
   "id": "ef2010ee",
   "metadata": {},
   "source": [
    "Step 4: Process captured frames"
   ]
  },
  {
   "cell_type": "code",
   "execution_count": null,
   "id": "f33e87f5",
   "metadata": {},
   "outputs": [],
   "source": [
    "# Create a Pillow image for the canvas\n",
    "canvas_width = 400\n",
    "canvas_height = 400\n",
    "image = Image.new('L', (canvas_width, canvas_height), color=255)  # White background\n",
    "draw = ImageDraw.Draw(image)\n",
    "\n",
    "# Function to preprocess the image for prediction\n",
    "def preprocess_image(pillow_image):\n",
    "    # Convert Pillow image to a NumPy array\n",
    "    image_array = np.array(pillow_image)\n",
    "\n",
    "    # Threshold the image to create a binary (black/white) version\n",
    "    _, binary_image = cv2.threshold(image_array, 127, 255, cv2.THRESH_BINARY_INV)\n",
    "\n",
    "    # Find contours to detect the digit\n",
    "    contours, _ = cv2.findContours(binary_image, cv2.RETR_EXTERNAL, cv2.CHAIN_APPROX_SIMPLE)\n",
    "    if contours:\n",
    "        # Get bounding box of the largest contour\n",
    "        x, y, w, h = cv2.boundingRect(max(contours, key=cv2.contourArea))\n",
    "\n",
    "        # Crop the digit using the bounding box\n",
    "        digit = binary_image[y:y+h, x:x+w]\n",
    "\n",
    "        # Resize the cropped digit to 20x20\n",
    "        resized_digit = cv2.resize(digit, (20, 20))\n",
    "\n",
    "        # Pad the digit to fit 28x28\n",
    "        padded_digit = cv2.copyMakeBorder(resized_digit, 4, 4, 4, 4, cv2.BORDER_CONSTANT, value=0)\n",
    "    else:\n",
    "        # Fallback if no contours are detected\n",
    "        padded_digit = np.zeros((28, 28), dtype=np.uint8)\n",
    "\n",
    "    # Normalize the pixel values and flatten\n",
    "    normalized_digit = padded_digit / 255.0\n",
    "    flattened_digit = normalized_digit.flatten().reshape(1, -1)\n",
    "\n",
    "    return flattened_digit\n",
    "\n",
    "\n",
    "# Function to predict the drawn digit\n",
    "def predict_digit():\n",
    "    # Convert the Pillow image to NumPy array and preprocess\n",
    "    processed_image = preprocess_image(image)\n",
    "\n",
    "    # Visualize intermediate results\n",
    "    plt.figure(figsize=(10, 5))\n",
    "    plt.subplot(1, 2, 1)\n",
    "    plt.imshow(image, cmap=\"gray\")\n",
    "    plt.title(\"Original Drawing\")\n",
    "    plt.subplot(1, 2, 2)\n",
    "    plt.imshow(processed_image.reshape(28, 28), cmap=\"gray\")\n",
    "    plt.title(\"Processed Input\")\n",
    "    plt.show()\n",
    "\n",
    "    # Predict using the KNN model\n",
    "    prediction = knn.predict(processed_image)\n",
    "    predicted_label = prediction[0]\n",
    "\n",
    "    # Display the prediction result\n",
    "    result_label.config(text=f\"Prediction: {predicted_label}\")\n",
    "\n",
    "\n",
    "# Function to draw on the canvas and Pillow image\n",
    "def paint(event):\n",
    "    x1, y1 = (event.x - 5), (event.y - 5)\n",
    "    x2, y2 = (event.x + 5), (event.y + 5)\n",
    "\n",
    "    # Draw on the Tkinter canvas\n",
    "    canvas.create_oval(x1, y1, x2, y2, fill=\"black\", width=5)\n",
    "\n",
    "    # Draw on the Pillow image with anti-aliasing\n",
    "    draw.ellipse([x1, y1, x2, y2], fill=0)  # Black color for the digit\n",
    "\n",
    "# Function to clear the canvas and Pillow image\n",
    "def clear_canvas():\n",
    "    canvas.delete(\"all\")\n",
    "    draw.rectangle([0, 0, canvas_width, canvas_height], fill=255)  # Reset Pillow image to white\n",
    "    result_label.config(text=\"Prediction: None\")\n",
    "\n",
    "# Create the Tkinter GUI\n",
    "root = tk.Tk()\n",
    "root.title(\"Handwritten Digit Recognition\")\n",
    "\n",
    "canvas = tk.Canvas(root, width=canvas_width, height=canvas_height, bg=\"white\")\n",
    "canvas.pack()\n",
    "\n",
    "# Bind the paint function to the left mouse button\n",
    "canvas.bind(\"<B1-Motion>\", paint)\n",
    "\n",
    "# Add buttons for prediction and clearing the canvas\n",
    "predict_button = tk.Button(root, text=\"Predict\", command=predict_digit)\n",
    "predict_button.pack()\n",
    "\n",
    "clear_button = tk.Button(root, text=\"Clear\", command=clear_canvas)\n",
    "clear_button.pack()\n",
    "\n",
    "# Label to display the prediction result\n",
    "result_label = tk.Label(root, text=\"Prediction: None\", font=(\"Helvetica\", 16))\n",
    "result_label.pack()\n",
    "\n",
    "# Run the Tkinter main loop\n",
    "root.mainloop()"
   ]
  },
  {
   "cell_type": "markdown",
   "id": "260112cf",
   "metadata": {},
   "source": [
    "Step 4: Test the model"
   ]
  },
  {
   "cell_type": "code",
   "execution_count": null,
   "id": "6cbd969d",
   "metadata": {},
   "outputs": [],
   "source": [
    "# Evaluate accuracy on the test set\n",
    "accuracy = knn.score(X_test, y_test)\n",
    "print(f\"Test Accuracy: {accuracy * 100:.2f}%\")\n"
   ]
  },
  {
   "cell_type": "markdown",
   "id": "89f9415a",
   "metadata": {},
   "source": [
    "Step 5: Prediction Analysis"
   ]
  },
  {
   "cell_type": "code",
   "execution_count": null,
   "id": "9556456c",
   "metadata": {},
   "outputs": [],
   "source": [
    "# Pick an image from the test set\n",
    "sample_idx = 0\n",
    "sample_image = X_test[sample_idx].reshape(28, 28)\n",
    "sample_label = y_test[sample_idx]\n",
    "\n",
    "# Predict the label\n",
    "predicted_label = knn.predict([X_test[sample_idx]])[0]\n",
    "\n",
    "# Display the image and the prediction\n",
    "plt.imshow(sample_image, cmap='gray')\n",
    "plt.title(f'Predicted: {predicted_label}, Actual: {sample_label}')\n",
    "plt.axis('off')\n",
    "plt.show()\n"
   ]
  }
 ],
 "metadata": {
  "kernelspec": {
   "display_name": "venv",
   "language": "python",
   "name": "python3"
  },
  "language_info": {
   "codemirror_mode": {
    "name": "ipython",
    "version": 3
   },
   "file_extension": ".py",
   "mimetype": "text/x-python",
   "name": "python",
   "nbconvert_exporter": "python",
   "pygments_lexer": "ipython3",
   "version": "3.12.3"
  }
 },
 "nbformat": 4,
 "nbformat_minor": 5
}
